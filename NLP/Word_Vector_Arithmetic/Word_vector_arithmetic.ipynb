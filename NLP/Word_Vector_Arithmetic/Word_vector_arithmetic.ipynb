{
 "cells": [
  {
   "cell_type": "code",
   "execution_count": 1,
   "id": "gross-patio",
   "metadata": {},
   "outputs": [],
   "source": [
    "import spacy\n",
    "from sklearn.metrics.pairwise import cosine_similarity as cosine_similarity_sklearn \n",
    "from scipy import spatial"
   ]
  },
  {
   "cell_type": "code",
   "execution_count": 2,
   "id": "variable-rapid",
   "metadata": {},
   "outputs": [],
   "source": [
    "nlp = spacy.load('en_core_web_lg')"
   ]
  },
  {
   "cell_type": "code",
   "execution_count": 3,
   "id": "acoustic-sympathy",
   "metadata": {},
   "outputs": [],
   "source": [
    "cosine_similarity_custom = lambda x,y: 1 - spatial.distance.cosine(x,y)"
   ]
  },
  {
   "cell_type": "code",
   "execution_count": 4,
   "id": "crazy-opening",
   "metadata": {},
   "outputs": [],
   "source": [
    "def word_vector_arithmetic(words_list, n):\n",
    "    words_vec_list = []\n",
    "    for word in words_list:\n",
    "        words_vec_list.append(nlp.vocab[word].vector)\n",
    "    new_vector = words_vec_list[0] - words_vec_list[1] + words_vec_list[2]\n",
    "    \n",
    "    similarities_sklearn = []\n",
    "    similarities_custom = []\n",
    "    for word in nlp.vocab:\n",
    "        if (word.has_vector and word.is_lower and word.is_alpha):\n",
    "            cs_sklearn = cosine_similarity_sklearn(new_vector.reshape(1, -1), word.vector.reshape(1, -1))\n",
    "            cs_custom = cosine_similarity_custom(new_vector, word.vector)\n",
    "            similarities_sklearn.append((word, cs_sklearn))\n",
    "            similarities_custom.append((word, cs_custom))\n",
    "    \n",
    "    similarities_sklearn = sorted(similarities_sklearn, key=lambda item: item[1], reverse=True)\n",
    "    similarities_custom = sorted(similarities_custom, key=lambda item: item[1], reverse=True)\n",
    "    \n",
    "    most_similar_sklearn = [(word[0].text, word[1][0][0]) for word in similarities_sklearn[:n]]\n",
    "    most_similar_custom = [(word[0].text, word[1]) for word in similarities_custom[:n]]\n",
    "    \n",
    "    print(f'The {n} most similar words based on sklearn cosine similarities are:\\n\\n{most_similar_sklearn}')\n",
    "    print('\\n-----------------------------------------\\n')\n",
    "    print(f'The {n} most similar words based on the custom built cosine similarities are:\\n\\n{most_similar_custom}')"
   ]
  },
  {
   "cell_type": "code",
   "execution_count": 5,
   "id": "statutory-present",
   "metadata": {},
   "outputs": [
    {
     "name": "stdout",
     "output_type": "stream",
     "text": [
      "The 10 most similar words based on sklearn cosine similarities are:\n",
      "\n",
      "[('actress', 0.87436426), ('actor', 0.82521105), ('actresses', 0.70501995), ('actors', 0.68155503), ('starred', 0.62244534), ('starring', 0.6142798), ('portrayed', 0.5630437), ('woman', 0.56105983), ('celebrity', 0.55670214), ('star', 0.5485102)]\n",
      "\n",
      "-----------------------------------------\n",
      "\n",
      "The 10 most similar words based on the custom built cosine similarities are:\n",
      "\n",
      "[('actress', 0.8743642568588257), ('actor', 0.8252111077308655), ('actresses', 0.7050201296806335), ('actors', 0.6815550327301025), ('starred', 0.6224454641342163), ('starring', 0.6142799258232117), ('portrayed', 0.5630437731742859), ('woman', 0.5610598921775818), ('celebrity', 0.5567022562026978), ('star', 0.5485102534294128)]\n"
     ]
    }
   ],
   "source": [
    "word_vector_arithmetic(['actor', 'man', 'woman'], 10)"
   ]
  }
 ],
 "metadata": {
  "kernelspec": {
   "display_name": "Python 3",
   "language": "python",
   "name": "python3"
  },
  "language_info": {
   "codemirror_mode": {
    "name": "ipython",
    "version": 3
   },
   "file_extension": ".py",
   "mimetype": "text/x-python",
   "name": "python",
   "nbconvert_exporter": "python",
   "pygments_lexer": "ipython3",
   "version": "3.7.9"
  }
 },
 "nbformat": 4,
 "nbformat_minor": 5
}
